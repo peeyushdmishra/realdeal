{
 "cells": [
  {
   "cell_type": "code",
   "execution_count": 61,
   "metadata": {
    "collapsed": false
   },
   "outputs": [],
   "source": [
    "#!/usr/bin/python\n",
    "import json\n",
    "import logging\n",
    "import os\n",
    "import csv\n",
    "import keytree\n",
    "\n",
    "from urllib import urlopen\n",
    "from xml.etree import ElementTree\n",
    "from pyzipcode import ZipCodeDatabase\n",
    "from shapely.geometry import Point, shape\n",
    "from geopy.geocoders import Nominatim\n",
    "\n",
    "class ZipGeoCoder(object):\n",
    "    elems_to_zip_code = {}\n",
    "\n",
    "    def __init__(self, zip_code_boundary_csv_file='data/bay_area_zip_code_boundaries.csv'):\n",
    "        with open(zip_code_boundary_csv_file) as f:\n",
    "            csv_reader = csv.DictReader(f)\n",
    "            for row in csv_reader:\n",
    "                zip_code = row['ZCTA5CE10']\n",
    "                geometry = \"<kml xmlns='http://www.opengis.net/kml/2.2'>\" + row['geometry'] + \"</kml>\"\n",
    "                tree = ElementTree.fromstring(geometry)  \n",
    "                kmlns = tree.tag.split('}')[0][1:]\n",
    "                elems = tree.findall(\".//{%s}Polygon\" % kmlns)\n",
    "                for e in elems:\n",
    "                    self.elems_to_zip_code[e] = zip_code\n",
    "                \n",
    "    def zip_code(self, latitude, longitude):\n",
    "        # Here's our point of interest\n",
    "        p = Point(longitude, latitude)\n",
    "        hits = filter(\n",
    "            lambda e: shape(keytree.geometry(e)).contains(p),\n",
    "            self.elems_to_zip_code.keys() )\n",
    "        if hits:\n",
    "            return self.elems_to_zip_code[hits[0]]\n",
    "\n",
    "class AddessGeoCoder(object):\n",
    "    geolocator = Nominatim()\n",
    "                \n",
    "    def address(self, latitude, longitude):\n",
    "        location = self.geolocator.reverse(\"%f, %f\" % (latitude, longitude))\n",
    "        if location and \"address\" in location.raw:\n",
    "            return location.raw[\"address\"]\n",
    "        \n",
    "\n",
    "geo_coder = ZipGeoCoder()\n",
    "zcdb = ZipCodeDatabase()   \n",
    "address_geo_coder = AddessGeoCoder()"
   ]
  },
  {
   "cell_type": "code",
   "execution_count": 31,
   "metadata": {
    "collapsed": false
   },
   "outputs": [
    {
     "name": "stdout",
     "output_type": "stream",
     "text": [
      "95124\n",
      "San Jose\n"
     ]
    }
   ],
   "source": [
    "zipcode = geo_coder.zip_code(37.268082, -121.908918)\n",
    "print zipcode\n",
    "print zcdb[zipcode].city\n"
   ]
  },
  {
   "cell_type": "code",
   "execution_count": 89,
   "metadata": {
    "collapsed": false
   },
   "outputs": [
    {
     "name": "stdout",
     "output_type": "stream",
     "text": [
      "{u'display_name': u'Riverside Road, Freedom, Santa Cruz County, California, 95076, United States of America', u'place_id': u'56760417', u'lon': u'-121.7448889', u'boundingbox': [u'36.9124747', u'36.9126522', u'-121.7454528', u'-121.7448889'], u'osm_type': u'way', u'licence': u'Data \\xa9 OpenStreetMap contributors, ODbL 1.0. http://www.openstreetmap.org/copyright', u'osm_id': u'10554240', u'lat': u'36.9126522', u'address': {u'country': u'United States of America', u'county': u'Santa Cruz County', u'suburb': u'Freedom', u'state': u'California', u'postcode': u'95076', u'country_code': u'us', u'road': u'Riverside Road'}}\n"
     ]
    }
   ],
   "source": [
    "from geopy.geocoders import Nominatim\n",
    "geolocator = Nominatim()\n",
    "\n",
    "location = geolocator.reverse(\"%f, %f\" % (36.911882, -121.744652))\n",
    "print location.raw"
   ]
  },
  {
   "cell_type": "code",
   "execution_count": 101,
   "metadata": {
    "collapsed": false
   },
   "outputs": [
    {
     "name": "stdout",
     "output_type": "stream",
     "text": [
      "710 properties found.\n"
     ]
    }
   ],
   "source": [
    "# Load properties.\n",
    "with open('data/bay_area_rentals.json') as f_in: \n",
    "    properties = json.load(f_in)\n",
    "print \"%d properties found.\" % len(properties)"
   ]
  },
  {
   "cell_type": "code",
   "execution_count": 102,
   "metadata": {
    "collapsed": false
   },
   "outputs": [
    {
     "name": "stdout",
     "output_type": "stream",
     "text": [
      "536 properties deduped.\n"
     ]
    }
   ],
   "source": [
    "# Dedupe properties.\n",
    "dedupe_property_map = {}\n",
    "for prop in properties:\n",
    "    key = \":\".join([\n",
    "        prop.get(\"title\"), \n",
    "        str(prop.get(\"bathrooms\")), \n",
    "        str(prop.get(\"bedrooms\")), \n",
    "        str(prop.get(\"price\"))\n",
    "    ])\n",
    "    dedupe_property_map[key] = prop\n",
    "properties = dedupe_property_map.values()\n",
    "print \"%d properties deduped.\" % len(properties)"
   ]
  },
  {
   "cell_type": "code",
   "execution_count": 103,
   "metadata": {
    "collapsed": false
   },
   "outputs": [
    {
     "name": "stdout",
     "output_type": "stream",
     "text": [
      "493 properties updated.\n"
     ]
    }
   ],
   "source": [
    "# Update json file.\n",
    "updated_properties = 0\n",
    "properties_updated = []\n",
    "for prop in properties:\n",
    "    lat = prop.get(\"latitude\")\n",
    "    lon = prop.get(\"longitude\")\n",
    "    if not lat or not lon:\n",
    "        continue\n",
    "\n",
    "    address = address_geo_coder.address(lat, lon)\n",
    "    if not address:\n",
    "        print \"Couldn't find address for: %f, %f\" % (lat, lon)\n",
    "        continue\n",
    "\n",
    "    zipcode = address.get(\"postcode\")\n",
    "    if not zipcode:\n",
    "        print \"Couldn't find zip code for: %f, %f\" % (lat, lon)\n",
    "        continue\n",
    "\n",
    "    city = (\n",
    "        address.get(\"city\") or \n",
    "        address.get(\"town\") or \n",
    "        address.get(\"village\") or \n",
    "        address.get(\"suburb\") or \n",
    "        address.get(\"hamlet\")\n",
    "    )\n",
    "    if not city:    \n",
    "        print \"Couldn't find city for: %f, %f\" % (lat, lon)\n",
    "        continue\n",
    "\n",
    "    prop[\"zipcode\"] = zipcode\n",
    "    prop[\"city\"] = city   \n",
    "    properties_updated.append(prop)\n",
    "    updated_properties += 1\n",
    "print \"%d properties updated.\" % len(properties_updated)\n"
   ]
  },
  {
   "cell_type": "code",
   "execution_count": 104,
   "metadata": {
    "collapsed": true
   },
   "outputs": [],
   "source": [
    "# Write geocoded properties to json.\n",
    "with open('data/bay_area_rentals_geo_coded.json', 'w') as f_out:\n",
    "    json_str = \"[%s]\" % \",\\n\".join([json.dumps(p) for p in properties_updated])\n",
    "    f_out.write(json_str)"
   ]
  },
  {
   "cell_type": "code",
   "execution_count": 106,
   "metadata": {
    "collapsed": false
   },
   "outputs": [],
   "source": [
    "# Write geocoded properties to csv.\n",
    "with open('data/bay_area_rentals_geo_coded.csv', 'w') as csvfile:\n",
    "    fieldnames = [\n",
    "        'craigslist_id', \n",
    "        'title', \n",
    "        'price',\n",
    "        'city', \n",
    "        'zipcode',\n",
    "        'bedrooms', \n",
    "        'bathrooms', \n",
    "        'building_size',\n",
    "        'link', \n",
    "        'latitude',\n",
    "        'longitude', \n",
    "        'posting_date'\n",
    "    ]\n",
    "    writer = csv.writer(csvfile)\n",
    "    writer.writerow(fieldnames)\n",
    "    for prop in properties_updated:\n",
    "        writer.writerow([\n",
    "            prop.get('craigslist_id'), \n",
    "            prop.get('title').encode('utf-8'), \n",
    "            prop.get('price'),\n",
    "            prop.get('city', u'').encode('utf-8'), \n",
    "            prop.get('zipcode'),\n",
    "            prop.get('bedrooms'), \n",
    "            prop.get('bathrooms'), \n",
    "            prop.get('building_size'),\n",
    "            prop.get('link'), \n",
    "            prop.get('latitude'),\n",
    "            prop.get('longitude'), \n",
    "            prop.get('posting_date')\n",
    "        ])"
   ]
  },
  {
   "cell_type": "code",
   "execution_count": null,
   "metadata": {
    "collapsed": true
   },
   "outputs": [],
   "source": []
  }
 ],
 "metadata": {
  "kernelspec": {
   "display_name": "Python 2",
   "language": "python",
   "name": "python2"
  },
  "language_info": {
   "codemirror_mode": {
    "name": "ipython",
    "version": 2
   },
   "file_extension": ".py",
   "mimetype": "text/x-python",
   "name": "python",
   "nbconvert_exporter": "python",
   "pygments_lexer": "ipython2",
   "version": "2.7.11"
  }
 },
 "nbformat": 4,
 "nbformat_minor": 0
}
